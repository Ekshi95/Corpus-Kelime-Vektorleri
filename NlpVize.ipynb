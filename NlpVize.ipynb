{
  "nbformat": 4,
  "nbformat_minor": 0,
  "metadata": {
    "colab": {
      "provenance": []
    },
    "kernelspec": {
      "name": "python3",
      "display_name": "Python 3"
    },
    "language_info": {
      "name": "python"
    }
  },
  "cells": [
    {
      "cell_type": "code",
      "source": [
        "import numpy as np\n",
        "from gensim.models import Word2Vec\n",
        "from sklearn.manifold import TSNE\n",
        "import matplotlib.pyplot as plt"
      ],
      "metadata": {
        "id": "5KKvgJ4uHklU"
      },
      "execution_count": null,
      "outputs": []
    },
    {
      "cell_type": "code",
      "source": [
        "from google.colab import drive\n",
        "drive.mount('/content/gdrive')"
      ],
      "metadata": {
        "colab": {
          "base_uri": "https://localhost:8080/"
        },
        "id": "7dC93LRNIOPy",
        "outputId": "1686d6c4-34a0-4a37-c871-186e9c531565"
      },
      "execution_count": null,
      "outputs": [
        {
          "output_type": "stream",
          "name": "stdout",
          "text": [
            "Drive already mounted at /content/gdrive; to attempt to forcibly remount, call drive.mount(\"/content/gdrive\", force_remount=True).\n"
          ]
        }
      ]
    },
    {
      "cell_type": "code",
      "source": [
        "%cd /content/gdrive/MyDrive/Colab Notebooks/"
      ],
      "metadata": {
        "colab": {
          "base_uri": "https://localhost:8080/"
        },
        "id": "w9lvrHZfIo1z",
        "outputId": "a8eb2bc9-6297-4d0a-e82c-315be71f2b39"
      },
      "execution_count": null,
      "outputs": [
        {
          "output_type": "stream",
          "name": "stdout",
          "text": [
            "/content/gdrive/MyDrive/Colab Notebooks\n"
          ]
        }
      ]
    },
    {
      "cell_type": "code",
      "source": [
        "!ls"
      ],
      "metadata": {
        "colab": {
          "base_uri": "https://localhost:8080/"
        },
        "id": "mB0TJKqpQQUO",
        "outputId": "90e74541-f87d-48aa-ad69-aed9463747df"
      },
      "execution_count": null,
      "outputs": [
        {
          "output_type": "stream",
          "name": "stdout",
          "text": [
            "'A TALE OF TWO CITIES.txt'\t\t\t\t       word2vec.ipynb\n",
            " NlpVize\t\t\t\t\t\t       word2vec.model\n",
            "'Topic models with Gensim.ipynb adlı not defterinin kopyası'\n"
          ]
        }
      ]
    },
    {
      "cell_type": "code",
      "source": [
        "f = open('A TALE OF TWO CITIES.txt', 'r', encoding='utf8')\n",
        "text = f.read()\n",
        "t_list = text.split('\\n')\n",
        "\n",
        "corpus = []\n",
        "\n",
        "for cumle in t_list:\n",
        "    corpus.append(cumle.split())"
      ],
      "metadata": {
        "id": "TQlRE-vwQbQp"
      },
      "execution_count": 203,
      "outputs": []
    },
    {
      "cell_type": "code",
      "source": [
        "print(corpus[:10])"
      ],
      "metadata": {
        "colab": {
          "base_uri": "https://localhost:8080/"
        },
        "id": "4yr8xtz0QoA_",
        "outputId": "4daae253-8051-447e-a0af-75f6911ac249"
      },
      "execution_count": 204,
      "outputs": [
        {
          "output_type": "stream",
          "name": "stdout",
          "text": [
            "[['chapter', 'i'], ['the', 'period'], ['it', 'was', 'the', 'best', 'of', 'times', 'it', 'was', 'the', 'worst', 'of', 'times', 'it', 'was', 'the', 'age', 'of', 'wisdom', 'it', 'was', 'the', 'age', 'of', 'foolishness', 'it', 'was', 'the', 'epoch', 'of', 'belief', 'it', 'was', 'the', 'epoch', 'of', 'incredulity', 'it', 'was', 'the', 'season', 'of', 'light', 'it', 'was', 'the', 'season', 'of', 'darkness', 'it', 'was', 'the', 'spring', 'of', 'hope', 'it', 'was', 'the', 'winter', 'of', 'despair', 'we', 'had', 'everything', 'before', 'us', 'we', 'had', 'nothing', 'before', 'us', 'we', 'were', 'all', 'going', 'direct', 'to', 'heaven', 'we', 'were', 'all', 'going', 'direct', 'the', 'other', 'wayin', 'short', 'the', 'period', 'was', 'so', 'far', 'like', 'the', 'present', 'period', 'that', 'some', 'of', 'its', 'noisiest', 'authorities', 'insisted', 'on', 'its', 'being', 'received', 'for', 'good', 'or', 'for', 'evil', 'in', 'the', 'superlative', 'degree', 'of', 'comparison', 'only'], [], ['there', 'were', 'a', 'king', 'with', 'a', 'large', 'jaw', 'and', 'a', 'queen', 'with', 'a', 'plain', 'face', 'on', 'the', 'throne', 'of', 'england', 'there', 'were', 'a', 'king', 'with', 'a', 'large', 'jaw', 'and', 'a', 'queen', 'with', 'a', 'fair', 'face', 'on', 'the', 'throne', 'of', 'france', 'in', 'both', 'countries', 'it', 'was', 'clearer', 'than', 'crystal', 'to', 'the', 'lords', 'of', 'the', 'state', 'preserves', 'of', 'loaves', 'and', 'fishes', 'that', 'things', 'in', 'general', 'were', 'settled', 'for', 'ever'], [], ['it', 'was', 'the', 'year', 'of', 'our', 'lord', 'one', 'thousand', 'seven', 'hundred', 'and', 'seventyfive', 'spiritual', 'revelations', 'were', 'conceded', 'to', 'england', 'at', 'that', 'favoured', 'period', 'as', 'at', 'this', 'mrs', 'southcott', 'had', 'recently', 'attained', 'her', 'fiveandtwentieth', 'blessed', 'birthday', 'of', 'whom', 'a', 'prophetic', 'private', 'in', 'the', 'life', 'guards', 'had', 'heralded', 'the', 'sublime', 'appearance', 'by', 'announcing', 'that', 'arrangements', 'were', 'made', 'for', 'the', 'swallowing', 'up', 'of', 'london', 'and', 'westminster', 'even', 'the', 'cocklane', 'ghost', 'had', 'been', 'laid', 'only', 'a', 'round', 'dozen', 'of', 'years', 'after', 'rapping', 'out', 'its', 'messages', 'as', 'the', 'spirits', 'of', 'this', 'very', 'year', 'last', 'past', 'supernaturally', 'deficient', 'in', 'originality', 'rapped', 'out', 'theirs', 'mere', 'messages', 'in', 'the', 'earthly', 'order', 'of', 'events', 'had', 'lately', 'come', 'to', 'the', 'english', 'crown', 'and', 'people', 'from', 'a', 'congress', 'of', 'british', 'subjects', 'in', 'america', 'which', 'strange', 'to', 'relate', 'have', 'proved', 'more', 'important', 'to', 'the', 'human', 'race', 'than', 'any', 'communications', 'yet', 'received', 'through', 'any', 'of', 'the', 'chickens', 'of', 'the', 'cocklane', 'brood'], [], ['france', 'less', 'favoured', 'on', 'the', 'whole', 'as', 'to', 'matters', 'spiritual', 'than', 'her', 'sister', 'of', 'the', 'shield', 'and', 'trident', 'rolled', 'with', 'exceeding', 'smoothness', 'down', 'hill', 'making', 'paper', 'money', 'and', 'spending', 'it', 'under', 'the', 'guidance', 'of', 'her', 'christian', 'pastors', 'she', 'entertained', 'herself', 'besides', 'with', 'such', 'humane', 'achievements', 'as', 'sentencing', 'a', 'youth', 'to', 'have', 'his', 'hands', 'cut', 'off', 'his', 'tongue', 'torn', 'out', 'with', 'pincers', 'and', 'his', 'body', 'burned', 'alive', 'because', 'he', 'had', 'not', 'kneeled', 'down', 'in', 'the', 'rain', 'to', 'do', 'honour', 'to', 'a', 'dirty', 'procession', 'of', 'monks', 'which', 'passed', 'within', 'his', 'view', 'at', 'a', 'distance', 'of', 'some', 'fifty', 'or', 'sixty', 'yards', 'it', 'is', 'likely', 'enough', 'that', 'rooted', 'in', 'the', 'woods', 'of', 'france', 'and', 'norway', 'there', 'were', 'growing', 'trees', 'when', 'that', 'sufferer', 'was', 'put', 'to', 'death', 'already', 'marked', 'by', 'the', 'woodman', 'fate', 'to', 'come', 'down', 'and', 'be', 'sawn', 'into', 'boards', 'to', 'make', 'a', 'certain', 'movable', 'framework', 'with', 'a', 'sack', 'and', 'a', 'knife', 'in', 'it', 'terrible', 'in', 'history', 'it', 'is', 'likely', 'enough', 'that', 'in', 'the', 'rough', 'outhouses', 'of', 'some', 'tillers', 'of', 'the', 'heavy', 'lands', 'adjacent', 'to', 'paris', 'there', 'were', 'sheltered', 'from', 'the', 'weather', 'that', 'very', 'day', 'rude', 'carts', 'bespattered', 'with', 'rustic', 'mire', 'snuffed', 'about', 'by', 'pigs', 'and', 'roosted', 'in', 'by', 'poultry', 'which', 'the', 'farmer', 'death', 'had', 'already', 'set', 'apart', 'to', 'be', 'his', 'tumbrils', 'of', 'the', 'revolution', 'but', 'that', 'woodman', 'and', 'that', 'farmer', 'though', 'they', 'work', 'unceasingly', 'work', 'silently', 'and', 'no', 'one', 'heard', 'them', 'as', 'they', 'went', 'about', 'with', 'muffled', 'tread', 'the', 'rather', 'forasmuch', 'as', 'to', 'entertain', 'any', 'suspicion', 'that', 'they', 'were', 'awake', 'was', 'to', 'be', 'atheistical', 'and', 'traitorous'], []]\n"
          ]
        }
      ]
    },
    {
      "cell_type": "code",
      "source": [
        "model = Word2Vec(corpus, vector_size=100, window=5, min_count=5, sg=1)"
      ],
      "metadata": {
        "id": "PzEJiV13SMnp"
      },
      "execution_count": 205,
      "outputs": []
    },
    {
      "cell_type": "code",
      "source": [
        "model.wv['french']"
      ],
      "metadata": {
        "colab": {
          "base_uri": "https://localhost:8080/"
        },
        "id": "tfyXEQEfS5Ai",
        "outputId": "ccc632ad-ecfd-4ee3-eab5-196a3fb09e12"
      },
      "execution_count": 206,
      "outputs": [
        {
          "output_type": "execute_result",
          "data": {
            "text/plain": [
              "array([-0.17210887,  0.25673553, -0.11236692,  0.03830841,  0.03294627,\n",
              "       -0.21152633,  0.1450864 ,  0.4057691 , -0.12727253, -0.09938605,\n",
              "       -0.05605832, -0.09149766, -0.05144686, -0.01636974,  0.07454301,\n",
              "       -0.19031188, -0.02905647, -0.02610502, -0.05732597, -0.23680063,\n",
              "        0.03036786,  0.02805902,  0.09094775, -0.13360554, -0.12147025,\n",
              "       -0.1190185 , -0.09016347,  0.02096185, -0.28899953,  0.17981817,\n",
              "       -0.00145444, -0.08856203,  0.1398791 , -0.22624955, -0.06042317,\n",
              "        0.11413305,  0.04867197,  0.02637405,  0.00821785, -0.16619436,\n",
              "        0.04722928, -0.03680338, -0.33368796,  0.01073698,  0.20749518,\n",
              "       -0.0740619 ,  0.02934433,  0.03434779,  0.14767382,  0.11811719,\n",
              "        0.07422854, -0.13015783,  0.02464882,  0.00974805, -0.09404378,\n",
              "        0.07601232,  0.01712469, -0.07403509, -0.24966373,  0.0524031 ,\n",
              "       -0.06839131,  0.0516002 , -0.0302113 , -0.1184094 , -0.11253074,\n",
              "        0.24045135,  0.06132016,  0.18395059, -0.30596942,  0.29882205,\n",
              "       -0.00265056,  0.12071525,  0.19510385, -0.22537173,  0.153164  ,\n",
              "        0.23686068, -0.0486274 ,  0.04192673, -0.05082124, -0.01330517,\n",
              "       -0.02080114,  0.04902384, -0.1523593 ,  0.07607736, -0.02168647,\n",
              "       -0.05982541,  0.03641941,  0.01248172,  0.12820244,  0.22546479,\n",
              "        0.26744705,  0.07280552,  0.0331792 , -0.0541895 ,  0.26252276,\n",
              "       -0.04684075,  0.10328938, -0.05211307,  0.1858421 , -0.15960328],\n",
              "      dtype=float32)"
            ]
          },
          "metadata": {},
          "execution_count": 206
        }
      ]
    },
    {
      "cell_type": "code",
      "source": [
        "model.wv.most_similar('evil')"
      ],
      "metadata": {
        "colab": {
          "base_uri": "https://localhost:8080/"
        },
        "id": "4hfPR1UoWlu8",
        "outputId": "822da2b6-0ac2-4a67-b1c2-0ad3b9981d41"
      },
      "execution_count": 207,
      "outputs": [
        {
          "output_type": "execute_result",
          "data": {
            "text/plain": [
              "[('law', 0.995233416557312),\n",
              " ('crime', 0.9950929880142212),\n",
              " ('hazard', 0.9948596954345703),\n",
              " ('patients', 0.9946296811103821),\n",
              " ('creatures', 0.9945647120475769),\n",
              " ('emigrants', 0.9944233894348145),\n",
              " ('uncertain', 0.9944191575050354),\n",
              " ('gives', 0.994235634803772),\n",
              " ('difference', 0.994171679019928),\n",
              " ('outward', 0.9939135909080505)]"
            ]
          },
          "metadata": {},
          "execution_count": 207
        }
      ]
    },
    {
      "cell_type": "code",
      "source": [
        "model.wv.most_similar('queen')"
      ],
      "metadata": {
        "colab": {
          "base_uri": "https://localhost:8080/"
        },
        "id": "blimQOfZZcU9",
        "outputId": "ce6c9950-fc2f-47d8-d246-31a1d1173602"
      },
      "execution_count": 208,
      "outputs": [
        {
          "output_type": "execute_result",
          "data": {
            "text/plain": [
              "[('flies', 0.9951318502426147),\n",
              " ('spectacle', 0.9949846863746643),\n",
              " ('leaf', 0.9948805570602417),\n",
              " ('ghosts', 0.9943143725395203),\n",
              " ('growing', 0.9939749836921692),\n",
              " ('visible', 0.993800163269043),\n",
              " ('surrounded', 0.9937908053398132),\n",
              " ('rapidly', 0.9936684966087341),\n",
              " ('formed', 0.9936357140541077),\n",
              " ('feeble', 0.9935444593429565)]"
            ]
          },
          "metadata": {},
          "execution_count": 208
        }
      ]
    },
    {
      "cell_type": "code",
      "source": [
        "model.wv.most_similar('night')"
      ],
      "metadata": {
        "colab": {
          "base_uri": "https://localhost:8080/"
        },
        "id": "kGjzIAwTZnTu",
        "outputId": "637bdd7f-1f8d-47fb-efc7-ada37bcc9c40"
      },
      "execution_count": 210,
      "outputs": [
        {
          "output_type": "execute_result",
          "data": {
            "text/plain": [
              "[('last', 0.9363060593605042),\n",
              " ('shadows', 0.9220950603485107),\n",
              " ('soldiers', 0.9181480407714844),\n",
              " ('house', 0.918071985244751),\n",
              " ('prisoners', 0.9095385670661926),\n",
              " ('days', 0.9086292386054993),\n",
              " ('day', 0.9085057973861694),\n",
              " ('summer', 0.9059508442878723),\n",
              " ('trees', 0.9032012224197388),\n",
              " ('footsteps', 0.9024361371994019)]"
            ]
          },
          "metadata": {},
          "execution_count": 210
        }
      ]
    },
    {
      "cell_type": "code",
      "source": [
        "model.wv.most_similar('chair')"
      ],
      "metadata": {
        "colab": {
          "base_uri": "https://localhost:8080/"
        },
        "id": "wMRwcb_4lvQR",
        "outputId": "8fa76e59-5877-4ce4-b4f2-adec5ee01300"
      },
      "execution_count": 211,
      "outputs": [
        {
          "output_type": "execute_result",
          "data": {
            "text/plain": [
              "[('shoulder', 0.9752479195594788),\n",
              " ('softly', 0.973059892654419),\n",
              " ('shook', 0.9722753167152405),\n",
              " ('seat', 0.9686557650566101),\n",
              " ('beside', 0.9680477976799011),\n",
              " ('table', 0.9650373458862305),\n",
              " ('walked', 0.9640761613845825),\n",
              " ('leaned', 0.9622665047645569),\n",
              " ('arms', 0.9577630162239075),\n",
              " ('towards', 0.957377016544342)]"
            ]
          },
          "metadata": {},
          "execution_count": 211
        }
      ]
    },
    {
      "cell_type": "code",
      "source": [
        "model.wv.most_similar('power')"
      ],
      "metadata": {
        "colab": {
          "base_uri": "https://localhost:8080/"
        },
        "id": "igYs68ccmEF-",
        "outputId": "77cf0f9e-1670-44f9-c132-88a9c77e0dcd"
      },
      "execution_count": 212,
      "outputs": [
        {
          "output_type": "execute_result",
          "data": {
            "text/plain": [
              "[('reasons', 0.9914357662200928),\n",
              " ('remembrance', 0.9888221025466919),\n",
              " ('chance', 0.9879240989685059),\n",
              " ('means', 0.9867265820503235),\n",
              " ('innocent', 0.9851906299591064),\n",
              " ('probably', 0.9846175312995911),\n",
              " ('secret', 0.9830580353736877),\n",
              " ('course', 0.9829707741737366),\n",
              " ('grown', 0.9827238321304321),\n",
              " ('feelings', 0.9826700687408447)]"
            ]
          },
          "metadata": {},
          "execution_count": 212
        }
      ]
    },
    {
      "cell_type": "code",
      "source": [
        "model.save('word2vec.model')"
      ],
      "metadata": {
        "id": "4BRtAmqycLzV"
      },
      "execution_count": 214,
      "outputs": []
    }
  ]
}